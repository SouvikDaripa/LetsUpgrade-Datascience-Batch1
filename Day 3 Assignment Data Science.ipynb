{
 "cells": [
  {
   "cell_type": "markdown",
   "metadata": {},
   "source": [
    "# Day 3 Assignment"
   ]
  },
  {
   "cell_type": "code",
   "execution_count": 1,
   "metadata": {},
   "outputs": [],
   "source": [
    "# Assignment 1\n",
    "import numpy as np"
   ]
  },
  {
   "cell_type": "code",
   "execution_count": 2,
   "metadata": {},
   "outputs": [
    {
     "name": "stdout",
     "output_type": "stream",
     "text": [
      "[ 2  5  8 11 14 17 20 23 26 29 32 35 38 41 44 47 50]\n"
     ]
    }
   ],
   "source": [
    "arr = np.arange(2,51,3)\n",
    "print(arr)"
   ]
  },
  {
   "cell_type": "code",
   "execution_count": 4,
   "metadata": {},
   "outputs": [
    {
     "name": "stdout",
     "output_type": "stream",
     "text": [
      "No. of dimensions:  2\n",
      "Size of array:  6\n"
     ]
    }
   ],
   "source": [
    "# Assignment 3\n",
    "arr = np.array( [[ 1, 2, 3],\n",
    "                 [ 4, 2, 5]] )\n",
    "print(\"No. of dimensions: \", arr.ndim)\n",
    "print(\"Size of array: \", arr.size)\n"
   ]
  },
  {
   "cell_type": "code",
   "execution_count": 5,
   "metadata": {},
   "outputs": [
    {
     "name": "stdout",
     "output_type": "stream",
     "text": [
      "[[0 1 2 3 4]\n",
      " [5 6 7 8 9]]\n"
     ]
    }
   ],
   "source": [
    "# Assignment 4\n",
    "arr = np.array([0, 1, 2, 3, 4, 5, 6, 7, 8, 9])\n",
    "arr_2d = np.reshape(arr, (2, 5))\n",
    "print(arr_2d)"
   ]
  },
  {
   "cell_type": "code",
   "execution_count": 6,
   "metadata": {},
   "outputs": [
    {
     "name": "stdout",
     "output_type": "stream",
     "text": [
      "Enter the list size : 5\n",
      "\n",
      "\n",
      "Enter number at location 0 :\n",
      "1\n",
      "Enter number at location 1 :\n",
      "3\n",
      "Enter number at location 2 :\n",
      "6\n",
      "Enter number at location 3 :\n",
      "4\n",
      "Enter number at location 4 :\n",
      "5\n",
      "User List1 is  [1, 3, 6, 4, 5]\n",
      "\n",
      "\n",
      "Enter number at location 0 :\n",
      "2\n",
      "Enter number at location 1 :\n",
      "7\n",
      "Enter number at location 2 :\n",
      "8\n",
      "Enter number at location 3 :\n",
      "10\n",
      "Enter number at location 4 :\n",
      "9\n",
      "User List2 is  [2, 7, 8, 10, 9]\n",
      "[1 3 6 4 5]\n",
      "[ 2  7  8 10  9]\n",
      "[ 1  3  6  4  5  2  7  8 10  9]\n",
      "[ 1  2  3  4  5  6  7  8  9 10]\n"
     ]
    }
   ],
   "source": [
    "l1 = []\n",
    "n = int(input(\"Enter the list size : \"))\n",
    "\n",
    "print(\"\\n\")\n",
    "for i in range(0, n):\n",
    "    print(\"Enter number at location\", i, \":\")\n",
    "    item = int(input())\n",
    "    l1.append(item)\n",
    "print(\"User List1 is \", l1)\n",
    "\n",
    "l2 = []\n",
    "print(\"\\n\")\n",
    "for i in range(0, n):\n",
    "    print(\"Enter number at location\", i, \":\")\n",
    "    item = int(input())\n",
    "    l2.append(item)\n",
    "print(\"User List2 is \", l2)\n",
    "\n",
    "arr1 = np.array(l1)\n",
    "print(arr1)\n",
    "\n",
    "arr2 = np.array(l2)\n",
    "print(arr2)\n",
    "\n",
    "arr = np.concatenate((arr1,arr2))\n",
    "print(arr)\n",
    "\n",
    "print(np.sort(arr))"
   ]
  },
  {
   "cell_type": "code",
   "execution_count": 7,
   "metadata": {},
   "outputs": [
    {
     "name": "stdout",
     "output_type": "stream",
     "text": [
      "Vertical stacking:\n",
      " [[1 2]\n",
      " [3 4]\n",
      " [5 6]\n",
      " [7 8]]\n",
      "\n",
      "Horizontal stacking:\n",
      " [[1 2 5 6]\n",
      " [3 4 7 8]]\n"
     ]
    }
   ],
   "source": [
    "a = np.array([[1, 2], \n",
    "              [3, 4]]) \n",
    "  \n",
    "b = np.array([[5, 6], \n",
    "              [7, 8]]) \n",
    "  \n",
    "# vertical stacking \n",
    "print(\"Vertical stacking:\\n\", np.vstack((a, b))) \n",
    "  \n",
    "# horizontal stacking \n",
    "print(\"\\nHorizontal stacking:\\n\", np.hstack((a, b))) "
   ]
  },
  {
   "cell_type": "code",
   "execution_count": null,
   "metadata": {},
   "outputs": [],
   "source": []
  }
 ],
 "metadata": {
  "kernelspec": {
   "display_name": "Python 3",
   "language": "python",
   "name": "python3"
  },
  "language_info": {
   "codemirror_mode": {
    "name": "ipython",
    "version": 3
   },
   "file_extension": ".py",
   "mimetype": "text/x-python",
   "name": "python",
   "nbconvert_exporter": "python",
   "pygments_lexer": "ipython3",
   "version": "3.8.3"
  }
 },
 "nbformat": 4,
 "nbformat_minor": 4
}
