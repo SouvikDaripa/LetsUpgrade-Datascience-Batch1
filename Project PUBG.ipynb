{
 "cells": [
  {
   "cell_type": "markdown",
   "metadata": {},
   "source": [
    "# Project - 1- PUBG"
   ]
  },
  {
   "cell_type": "code",
   "execution_count": 1,
   "metadata": {},
   "outputs": [],
   "source": [
    "import warnings\n",
    "warnings.simplefilter('ignore')"
   ]
  },
  {
   "cell_type": "code",
   "execution_count": 2,
   "metadata": {},
   "outputs": [],
   "source": [
    "import numpy as np\n",
    "import pandas as pd\n",
    "import matplotlib.pyplot as plt\n",
    "import seaborn as sns"
   ]
  },
  {
   "cell_type": "code",
   "execution_count": 5,
   "metadata": {},
   "outputs": [],
   "source": [
    "df = pd.read_csv(\"E:\\\\New folder\\\\Data Science\\\\pubg - Dr. Darshan Ingle.csv\")"
   ]
  },
  {
   "cell_type": "code",
   "execution_count": 6,
   "metadata": {},
   "outputs": [
    {
     "data": {
      "text/html": [
       "<div>\n",
       "<style scoped>\n",
       "    .dataframe tbody tr th:only-of-type {\n",
       "        vertical-align: middle;\n",
       "    }\n",
       "\n",
       "    .dataframe tbody tr th {\n",
       "        vertical-align: top;\n",
       "    }\n",
       "\n",
       "    .dataframe thead th {\n",
       "        text-align: right;\n",
       "    }\n",
       "</style>\n",
       "<table border=\"1\" class=\"dataframe\">\n",
       "  <thead>\n",
       "    <tr style=\"text-align: right;\">\n",
       "      <th></th>\n",
       "      <th>Id</th>\n",
       "      <th>groupId</th>\n",
       "      <th>matchId</th>\n",
       "      <th>assists</th>\n",
       "      <th>boosts</th>\n",
       "      <th>damageDealt</th>\n",
       "      <th>DBNOs</th>\n",
       "      <th>headshotKills</th>\n",
       "      <th>heals</th>\n",
       "      <th>killPlace</th>\n",
       "      <th>...</th>\n",
       "      <th>revives</th>\n",
       "      <th>rideDistance</th>\n",
       "      <th>roadKills</th>\n",
       "      <th>swimDistance</th>\n",
       "      <th>teamKills</th>\n",
       "      <th>vehicleDestroys</th>\n",
       "      <th>walkDistance</th>\n",
       "      <th>weaponsAcquired</th>\n",
       "      <th>winPoints</th>\n",
       "      <th>winPlacePerc</th>\n",
       "    </tr>\n",
       "  </thead>\n",
       "  <tbody>\n",
       "    <tr>\n",
       "      <th>0</th>\n",
       "      <td>2f262dd9795e60</td>\n",
       "      <td>78437bcd91d40e</td>\n",
       "      <td>d5db3a49eb2955</td>\n",
       "      <td>0</td>\n",
       "      <td>0</td>\n",
       "      <td>0.0</td>\n",
       "      <td>0</td>\n",
       "      <td>0</td>\n",
       "      <td>0</td>\n",
       "      <td>92</td>\n",
       "      <td>...</td>\n",
       "      <td>0</td>\n",
       "      <td>0.0</td>\n",
       "      <td>0</td>\n",
       "      <td>0.0</td>\n",
       "      <td>0</td>\n",
       "      <td>0</td>\n",
       "      <td>0.0</td>\n",
       "      <td>0</td>\n",
       "      <td>1470</td>\n",
       "      <td>0.0000</td>\n",
       "    </tr>\n",
       "    <tr>\n",
       "      <th>1</th>\n",
       "      <td>a32847cf5bf34b</td>\n",
       "      <td>85b7ce5a12e10b</td>\n",
       "      <td>65223f05c7fdb4</td>\n",
       "      <td>0</td>\n",
       "      <td>0</td>\n",
       "      <td>163.2</td>\n",
       "      <td>1</td>\n",
       "      <td>1</td>\n",
       "      <td>0</td>\n",
       "      <td>42</td>\n",
       "      <td>...</td>\n",
       "      <td>0</td>\n",
       "      <td>0.0</td>\n",
       "      <td>0</td>\n",
       "      <td>0.0</td>\n",
       "      <td>0</td>\n",
       "      <td>0</td>\n",
       "      <td>132.7</td>\n",
       "      <td>2</td>\n",
       "      <td>1531</td>\n",
       "      <td>0.2222</td>\n",
       "    </tr>\n",
       "    <tr>\n",
       "      <th>2</th>\n",
       "      <td>1b1900a9990396</td>\n",
       "      <td>edf80d6523380a</td>\n",
       "      <td>1cadec4534f30a</td>\n",
       "      <td>0</td>\n",
       "      <td>3</td>\n",
       "      <td>278.7</td>\n",
       "      <td>2</td>\n",
       "      <td>1</td>\n",
       "      <td>8</td>\n",
       "      <td>16</td>\n",
       "      <td>...</td>\n",
       "      <td>3</td>\n",
       "      <td>0.0</td>\n",
       "      <td>0</td>\n",
       "      <td>0.0</td>\n",
       "      <td>0</td>\n",
       "      <td>0</td>\n",
       "      <td>3591.0</td>\n",
       "      <td>10</td>\n",
       "      <td>0</td>\n",
       "      <td>0.8571</td>\n",
       "    </tr>\n",
       "    <tr>\n",
       "      <th>3</th>\n",
       "      <td>f589dd03b60bf2</td>\n",
       "      <td>804ab5e5585558</td>\n",
       "      <td>c4a5676dc91604</td>\n",
       "      <td>0</td>\n",
       "      <td>0</td>\n",
       "      <td>191.9</td>\n",
       "      <td>1</td>\n",
       "      <td>0</td>\n",
       "      <td>0</td>\n",
       "      <td>31</td>\n",
       "      <td>...</td>\n",
       "      <td>0</td>\n",
       "      <td>0.0</td>\n",
       "      <td>0</td>\n",
       "      <td>0.0</td>\n",
       "      <td>0</td>\n",
       "      <td>0</td>\n",
       "      <td>332.7</td>\n",
       "      <td>3</td>\n",
       "      <td>0</td>\n",
       "      <td>0.3462</td>\n",
       "    </tr>\n",
       "    <tr>\n",
       "      <th>4</th>\n",
       "      <td>c23c4cc5b78b35</td>\n",
       "      <td>b3e2cd169ed920</td>\n",
       "      <td>cd595700a01bfa</td>\n",
       "      <td>0</td>\n",
       "      <td>0</td>\n",
       "      <td>100.0</td>\n",
       "      <td>1</td>\n",
       "      <td>0</td>\n",
       "      <td>0</td>\n",
       "      <td>87</td>\n",
       "      <td>...</td>\n",
       "      <td>0</td>\n",
       "      <td>0.0</td>\n",
       "      <td>0</td>\n",
       "      <td>0.0</td>\n",
       "      <td>0</td>\n",
       "      <td>0</td>\n",
       "      <td>252.7</td>\n",
       "      <td>3</td>\n",
       "      <td>1557</td>\n",
       "      <td>0.0690</td>\n",
       "    </tr>\n",
       "  </tbody>\n",
       "</table>\n",
       "<p>5 rows × 29 columns</p>\n",
       "</div>"
      ],
      "text/plain": [
       "               Id         groupId         matchId  assists  boosts  \\\n",
       "0  2f262dd9795e60  78437bcd91d40e  d5db3a49eb2955        0       0   \n",
       "1  a32847cf5bf34b  85b7ce5a12e10b  65223f05c7fdb4        0       0   \n",
       "2  1b1900a9990396  edf80d6523380a  1cadec4534f30a        0       3   \n",
       "3  f589dd03b60bf2  804ab5e5585558  c4a5676dc91604        0       0   \n",
       "4  c23c4cc5b78b35  b3e2cd169ed920  cd595700a01bfa        0       0   \n",
       "\n",
       "   damageDealt  DBNOs  headshotKills  heals  killPlace  ...  revives  \\\n",
       "0          0.0      0              0      0         92  ...        0   \n",
       "1        163.2      1              1      0         42  ...        0   \n",
       "2        278.7      2              1      8         16  ...        3   \n",
       "3        191.9      1              0      0         31  ...        0   \n",
       "4        100.0      1              0      0         87  ...        0   \n",
       "\n",
       "   rideDistance  roadKills  swimDistance  teamKills vehicleDestroys  \\\n",
       "0           0.0          0           0.0          0               0   \n",
       "1           0.0          0           0.0          0               0   \n",
       "2           0.0          0           0.0          0               0   \n",
       "3           0.0          0           0.0          0               0   \n",
       "4           0.0          0           0.0          0               0   \n",
       "\n",
       "   walkDistance  weaponsAcquired  winPoints  winPlacePerc  \n",
       "0           0.0                0       1470        0.0000  \n",
       "1         132.7                2       1531        0.2222  \n",
       "2        3591.0               10          0        0.8571  \n",
       "3         332.7                3          0        0.3462  \n",
       "4         252.7                3       1557        0.0690  \n",
       "\n",
       "[5 rows x 29 columns]"
      ]
     },
     "execution_count": 6,
     "metadata": {},
     "output_type": "execute_result"
    }
   ],
   "source": [
    "df.head()"
   ]
  },
  {
   "cell_type": "code",
   "execution_count": 7,
   "metadata": {},
   "outputs": [
    {
     "data": {
      "text/plain": [
       "(10000, 29)"
      ]
     },
     "execution_count": 7,
     "metadata": {},
     "output_type": "execute_result"
    }
   ],
   "source": [
    "df.shape"
   ]
  },
  {
   "cell_type": "code",
   "execution_count": 8,
   "metadata": {},
   "outputs": [
    {
     "name": "stdout",
     "output_type": "stream",
     "text": [
      "<class 'pandas.core.frame.DataFrame'>\n",
      "RangeIndex: 10000 entries, 0 to 9999\n",
      "Data columns (total 29 columns):\n",
      " #   Column           Non-Null Count  Dtype  \n",
      "---  ------           --------------  -----  \n",
      " 0   Id               10000 non-null  object \n",
      " 1   groupId          10000 non-null  object \n",
      " 2   matchId          10000 non-null  object \n",
      " 3   assists          10000 non-null  int64  \n",
      " 4   boosts           10000 non-null  int64  \n",
      " 5   damageDealt      10000 non-null  float64\n",
      " 6   DBNOs            10000 non-null  int64  \n",
      " 7   headshotKills    10000 non-null  int64  \n",
      " 8   heals            10000 non-null  int64  \n",
      " 9   killPlace        10000 non-null  int64  \n",
      " 10  killPoints       10000 non-null  int64  \n",
      " 11  kills            10000 non-null  int64  \n",
      " 12  killStreaks      10000 non-null  int64  \n",
      " 13  longestKill      10000 non-null  float64\n",
      " 14  matchDuration    10000 non-null  int64  \n",
      " 15  matchType        10000 non-null  object \n",
      " 16  maxPlace         10000 non-null  int64  \n",
      " 17  numGroups        10000 non-null  int64  \n",
      " 18  rankPoints       10000 non-null  int64  \n",
      " 19  revives          10000 non-null  int64  \n",
      " 20  rideDistance     10000 non-null  float64\n",
      " 21  roadKills        10000 non-null  int64  \n",
      " 22  swimDistance     10000 non-null  float64\n",
      " 23  teamKills        10000 non-null  int64  \n",
      " 24  vehicleDestroys  10000 non-null  int64  \n",
      " 25  walkDistance     10000 non-null  float64\n",
      " 26  weaponsAcquired  10000 non-null  int64  \n",
      " 27  winPoints        10000 non-null  int64  \n",
      " 28  winPlacePerc     10000 non-null  float64\n",
      "dtypes: float64(6), int64(19), object(4)\n",
      "memory usage: 2.1+ MB\n"
     ]
    }
   ],
   "source": [
    "df.info()"
   ]
  },
  {
   "cell_type": "code",
   "execution_count": 9,
   "metadata": {},
   "outputs": [
    {
     "data": {
      "text/html": [
       "<div>\n",
       "<style scoped>\n",
       "    .dataframe tbody tr th:only-of-type {\n",
       "        vertical-align: middle;\n",
       "    }\n",
       "\n",
       "    .dataframe tbody tr th {\n",
       "        vertical-align: top;\n",
       "    }\n",
       "\n",
       "    .dataframe thead th {\n",
       "        text-align: right;\n",
       "    }\n",
       "</style>\n",
       "<table border=\"1\" class=\"dataframe\">\n",
       "  <thead>\n",
       "    <tr style=\"text-align: right;\">\n",
       "      <th></th>\n",
       "      <th>assists</th>\n",
       "      <th>boosts</th>\n",
       "      <th>damageDealt</th>\n",
       "      <th>DBNOs</th>\n",
       "      <th>headshotKills</th>\n",
       "      <th>heals</th>\n",
       "      <th>killPlace</th>\n",
       "      <th>killPoints</th>\n",
       "      <th>kills</th>\n",
       "      <th>killStreaks</th>\n",
       "      <th>...</th>\n",
       "      <th>revives</th>\n",
       "      <th>rideDistance</th>\n",
       "      <th>roadKills</th>\n",
       "      <th>swimDistance</th>\n",
       "      <th>teamKills</th>\n",
       "      <th>vehicleDestroys</th>\n",
       "      <th>walkDistance</th>\n",
       "      <th>weaponsAcquired</th>\n",
       "      <th>winPoints</th>\n",
       "      <th>winPlacePerc</th>\n",
       "    </tr>\n",
       "  </thead>\n",
       "  <tbody>\n",
       "    <tr>\n",
       "      <th>count</th>\n",
       "      <td>10000.000000</td>\n",
       "      <td>10000.000000</td>\n",
       "      <td>10000.000000</td>\n",
       "      <td>10000.00000</td>\n",
       "      <td>10000.000000</td>\n",
       "      <td>10000.000000</td>\n",
       "      <td>10000.000000</td>\n",
       "      <td>10000.000000</td>\n",
       "      <td>10000.000000</td>\n",
       "      <td>10000.000000</td>\n",
       "      <td>...</td>\n",
       "      <td>10000.000000</td>\n",
       "      <td>10000.000000</td>\n",
       "      <td>10000.000000</td>\n",
       "      <td>10000.000000</td>\n",
       "      <td>10000.000000</td>\n",
       "      <td>10000.000000</td>\n",
       "      <td>10000.000000</td>\n",
       "      <td>10000.00000</td>\n",
       "      <td>10000.0000</td>\n",
       "      <td>10000.000000</td>\n",
       "    </tr>\n",
       "    <tr>\n",
       "      <th>mean</th>\n",
       "      <td>0.234600</td>\n",
       "      <td>1.088500</td>\n",
       "      <td>129.211264</td>\n",
       "      <td>0.64400</td>\n",
       "      <td>0.221700</td>\n",
       "      <td>1.354000</td>\n",
       "      <td>47.663100</td>\n",
       "      <td>506.970200</td>\n",
       "      <td>0.913400</td>\n",
       "      <td>0.543800</td>\n",
       "      <td>...</td>\n",
       "      <td>0.160200</td>\n",
       "      <td>600.693584</td>\n",
       "      <td>0.004200</td>\n",
       "      <td>4.385917</td>\n",
       "      <td>0.024400</td>\n",
       "      <td>0.007700</td>\n",
       "      <td>1130.008410</td>\n",
       "      <td>3.63590</td>\n",
       "      <td>609.3440</td>\n",
       "      <td>0.469926</td>\n",
       "    </tr>\n",
       "    <tr>\n",
       "      <th>std</th>\n",
       "      <td>0.575149</td>\n",
       "      <td>1.703279</td>\n",
       "      <td>167.193945</td>\n",
       "      <td>1.09562</td>\n",
       "      <td>0.577046</td>\n",
       "      <td>2.629102</td>\n",
       "      <td>27.424146</td>\n",
       "      <td>627.297959</td>\n",
       "      <td>1.524117</td>\n",
       "      <td>0.701948</td>\n",
       "      <td>...</td>\n",
       "      <td>0.454045</td>\n",
       "      <td>1524.915601</td>\n",
       "      <td>0.074719</td>\n",
       "      <td>30.889620</td>\n",
       "      <td>0.171486</td>\n",
       "      <td>0.089674</td>\n",
       "      <td>1168.597983</td>\n",
       "      <td>2.42209</td>\n",
       "      <td>739.7924</td>\n",
       "      <td>0.304508</td>\n",
       "    </tr>\n",
       "    <tr>\n",
       "      <th>min</th>\n",
       "      <td>0.000000</td>\n",
       "      <td>0.000000</td>\n",
       "      <td>0.000000</td>\n",
       "      <td>0.00000</td>\n",
       "      <td>0.000000</td>\n",
       "      <td>0.000000</td>\n",
       "      <td>1.000000</td>\n",
       "      <td>0.000000</td>\n",
       "      <td>0.000000</td>\n",
       "      <td>0.000000</td>\n",
       "      <td>...</td>\n",
       "      <td>0.000000</td>\n",
       "      <td>0.000000</td>\n",
       "      <td>0.000000</td>\n",
       "      <td>0.000000</td>\n",
       "      <td>0.000000</td>\n",
       "      <td>0.000000</td>\n",
       "      <td>0.000000</td>\n",
       "      <td>0.00000</td>\n",
       "      <td>0.0000</td>\n",
       "      <td>0.000000</td>\n",
       "    </tr>\n",
       "    <tr>\n",
       "      <th>25%</th>\n",
       "      <td>0.000000</td>\n",
       "      <td>0.000000</td>\n",
       "      <td>0.000000</td>\n",
       "      <td>0.00000</td>\n",
       "      <td>0.000000</td>\n",
       "      <td>0.000000</td>\n",
       "      <td>24.000000</td>\n",
       "      <td>0.000000</td>\n",
       "      <td>0.000000</td>\n",
       "      <td>0.000000</td>\n",
       "      <td>...</td>\n",
       "      <td>0.000000</td>\n",
       "      <td>0.000000</td>\n",
       "      <td>0.000000</td>\n",
       "      <td>0.000000</td>\n",
       "      <td>0.000000</td>\n",
       "      <td>0.000000</td>\n",
       "      <td>151.575000</td>\n",
       "      <td>2.00000</td>\n",
       "      <td>0.0000</td>\n",
       "      <td>0.200000</td>\n",
       "    </tr>\n",
       "    <tr>\n",
       "      <th>50%</th>\n",
       "      <td>0.000000</td>\n",
       "      <td>0.000000</td>\n",
       "      <td>83.805000</td>\n",
       "      <td>0.00000</td>\n",
       "      <td>0.000000</td>\n",
       "      <td>0.000000</td>\n",
       "      <td>48.000000</td>\n",
       "      <td>0.000000</td>\n",
       "      <td>0.000000</td>\n",
       "      <td>0.000000</td>\n",
       "      <td>...</td>\n",
       "      <td>0.000000</td>\n",
       "      <td>0.000000</td>\n",
       "      <td>0.000000</td>\n",
       "      <td>0.000000</td>\n",
       "      <td>0.000000</td>\n",
       "      <td>0.000000</td>\n",
       "      <td>650.350000</td>\n",
       "      <td>3.00000</td>\n",
       "      <td>0.0000</td>\n",
       "      <td>0.458300</td>\n",
       "    </tr>\n",
       "    <tr>\n",
       "      <th>75%</th>\n",
       "      <td>0.000000</td>\n",
       "      <td>2.000000</td>\n",
       "      <td>185.325000</td>\n",
       "      <td>1.00000</td>\n",
       "      <td>0.000000</td>\n",
       "      <td>2.000000</td>\n",
       "      <td>71.000000</td>\n",
       "      <td>1169.000000</td>\n",
       "      <td>1.000000</td>\n",
       "      <td>1.000000</td>\n",
       "      <td>...</td>\n",
       "      <td>0.000000</td>\n",
       "      <td>0.000575</td>\n",
       "      <td>0.000000</td>\n",
       "      <td>0.000000</td>\n",
       "      <td>0.000000</td>\n",
       "      <td>0.000000</td>\n",
       "      <td>1923.250000</td>\n",
       "      <td>5.00000</td>\n",
       "      <td>1495.0000</td>\n",
       "      <td>0.735100</td>\n",
       "    </tr>\n",
       "    <tr>\n",
       "      <th>max</th>\n",
       "      <td>7.000000</td>\n",
       "      <td>18.000000</td>\n",
       "      <td>3469.000000</td>\n",
       "      <td>11.00000</td>\n",
       "      <td>14.000000</td>\n",
       "      <td>31.000000</td>\n",
       "      <td>100.000000</td>\n",
       "      <td>1926.000000</td>\n",
       "      <td>35.000000</td>\n",
       "      <td>4.000000</td>\n",
       "      <td>...</td>\n",
       "      <td>5.000000</td>\n",
       "      <td>28780.000000</td>\n",
       "      <td>3.000000</td>\n",
       "      <td>971.200000</td>\n",
       "      <td>3.000000</td>\n",
       "      <td>2.000000</td>\n",
       "      <td>10490.000000</td>\n",
       "      <td>41.00000</td>\n",
       "      <td>1863.0000</td>\n",
       "      <td>1.000000</td>\n",
       "    </tr>\n",
       "  </tbody>\n",
       "</table>\n",
       "<p>8 rows × 25 columns</p>\n",
       "</div>"
      ],
      "text/plain": [
       "            assists        boosts   damageDealt        DBNOs  headshotKills  \\\n",
       "count  10000.000000  10000.000000  10000.000000  10000.00000   10000.000000   \n",
       "mean       0.234600      1.088500    129.211264      0.64400       0.221700   \n",
       "std        0.575149      1.703279    167.193945      1.09562       0.577046   \n",
       "min        0.000000      0.000000      0.000000      0.00000       0.000000   \n",
       "25%        0.000000      0.000000      0.000000      0.00000       0.000000   \n",
       "50%        0.000000      0.000000     83.805000      0.00000       0.000000   \n",
       "75%        0.000000      2.000000    185.325000      1.00000       0.000000   \n",
       "max        7.000000     18.000000   3469.000000     11.00000      14.000000   \n",
       "\n",
       "              heals     killPlace    killPoints         kills   killStreaks  \\\n",
       "count  10000.000000  10000.000000  10000.000000  10000.000000  10000.000000   \n",
       "mean       1.354000     47.663100    506.970200      0.913400      0.543800   \n",
       "std        2.629102     27.424146    627.297959      1.524117      0.701948   \n",
       "min        0.000000      1.000000      0.000000      0.000000      0.000000   \n",
       "25%        0.000000     24.000000      0.000000      0.000000      0.000000   \n",
       "50%        0.000000     48.000000      0.000000      0.000000      0.000000   \n",
       "75%        2.000000     71.000000   1169.000000      1.000000      1.000000   \n",
       "max       31.000000    100.000000   1926.000000     35.000000      4.000000   \n",
       "\n",
       "       ...       revives  rideDistance     roadKills  swimDistance  \\\n",
       "count  ...  10000.000000  10000.000000  10000.000000  10000.000000   \n",
       "mean   ...      0.160200    600.693584      0.004200      4.385917   \n",
       "std    ...      0.454045   1524.915601      0.074719     30.889620   \n",
       "min    ...      0.000000      0.000000      0.000000      0.000000   \n",
       "25%    ...      0.000000      0.000000      0.000000      0.000000   \n",
       "50%    ...      0.000000      0.000000      0.000000      0.000000   \n",
       "75%    ...      0.000000      0.000575      0.000000      0.000000   \n",
       "max    ...      5.000000  28780.000000      3.000000    971.200000   \n",
       "\n",
       "          teamKills  vehicleDestroys  walkDistance  weaponsAcquired  \\\n",
       "count  10000.000000     10000.000000  10000.000000      10000.00000   \n",
       "mean       0.024400         0.007700   1130.008410          3.63590   \n",
       "std        0.171486         0.089674   1168.597983          2.42209   \n",
       "min        0.000000         0.000000      0.000000          0.00000   \n",
       "25%        0.000000         0.000000    151.575000          2.00000   \n",
       "50%        0.000000         0.000000    650.350000          3.00000   \n",
       "75%        0.000000         0.000000   1923.250000          5.00000   \n",
       "max        3.000000         2.000000  10490.000000         41.00000   \n",
       "\n",
       "        winPoints  winPlacePerc  \n",
       "count  10000.0000  10000.000000  \n",
       "mean     609.3440      0.469926  \n",
       "std      739.7924      0.304508  \n",
       "min        0.0000      0.000000  \n",
       "25%        0.0000      0.200000  \n",
       "50%        0.0000      0.458300  \n",
       "75%     1495.0000      0.735100  \n",
       "max     1863.0000      1.000000  \n",
       "\n",
       "[8 rows x 25 columns]"
      ]
     },
     "execution_count": 9,
     "metadata": {},
     "output_type": "execute_result"
    }
   ],
   "source": [
    "# Describe the numerical cols\n",
    "df.describe()"
   ]
  },
  {
   "cell_type": "code",
   "execution_count": 11,
   "metadata": {},
   "outputs": [
    {
     "data": {
      "text/plain": [
       "count    10000.000000\n",
       "mean         0.913400\n",
       "std          1.524117\n",
       "min          0.000000\n",
       "25%          0.000000\n",
       "50%          0.000000\n",
       "75%          1.000000\n",
       "max         35.000000\n",
       "Name: kills, dtype: float64"
      ]
     },
     "execution_count": 11,
     "metadata": {},
     "output_type": "execute_result"
    }
   ],
   "source": [
    "#4\n",
    "df[\"kills\"].describe()"
   ]
  },
  {
   "cell_type": "code",
   "execution_count": 13,
   "metadata": {},
   "outputs": [
    {
     "data": {
      "text/plain": [
       "0.9134"
      ]
     },
     "execution_count": 13,
     "metadata": {},
     "output_type": "execute_result"
    }
   ],
   "source": [
    "df[\"kills\"].mean()"
   ]
  },
  {
   "cell_type": "code",
   "execution_count": 17,
   "metadata": {},
   "outputs": [
    {
     "data": {
      "text/plain": [
       "7.0"
      ]
     },
     "execution_count": 17,
     "metadata": {},
     "output_type": "execute_result"
    }
   ],
   "source": [
    "#5\n",
    "df[\"kills\"].quantile(q = 0.99)"
   ]
  },
  {
   "cell_type": "code",
   "execution_count": 18,
   "metadata": {},
   "outputs": [
    {
     "data": {
      "text/plain": [
       "35"
      ]
     },
     "execution_count": 18,
     "metadata": {},
     "output_type": "execute_result"
    }
   ],
   "source": [
    "#6\n",
    "df[\"kills\"].max()"
   ]
  },
  {
   "cell_type": "code",
   "execution_count": 19,
   "metadata": {},
   "outputs": [
    {
     "data": {
      "text/plain": [
       "Index(['Id', 'groupId', 'matchId', 'assists', 'boosts', 'damageDealt', 'DBNOs',\n",
       "       'headshotKills', 'heals', 'killPlace', 'killPoints', 'kills',\n",
       "       'killStreaks', 'longestKill', 'matchDuration', 'matchType', 'maxPlace',\n",
       "       'numGroups', 'rankPoints', 'revives', 'rideDistance', 'roadKills',\n",
       "       'swimDistance', 'teamKills', 'vehicleDestroys', 'walkDistance',\n",
       "       'weaponsAcquired', 'winPoints', 'winPlacePerc'],\n",
       "      dtype='object')"
      ]
     },
     "execution_count": 19,
     "metadata": {},
     "output_type": "execute_result"
    }
   ],
   "source": [
    "#7\n",
    "df.columns"
   ]
  },
  {
   "cell_type": "code",
   "execution_count": 21,
   "metadata": {},
   "outputs": [
    {
     "data": {
      "text/plain": [
       "['assists',\n",
       " 'boosts',\n",
       " 'damageDealt',\n",
       " 'DBNOs',\n",
       " 'headshotKills',\n",
       " 'heals',\n",
       " 'killPlace',\n",
       " 'killPoints',\n",
       " 'kills',\n",
       " 'killStreaks',\n",
       " 'longestKill',\n",
       " 'matchDuration',\n",
       " 'maxPlace',\n",
       " 'numGroups',\n",
       " 'rankPoints',\n",
       " 'revives',\n",
       " 'rideDistance',\n",
       " 'roadKills',\n",
       " 'swimDistance',\n",
       " 'teamKills',\n",
       " 'vehicleDestroys',\n",
       " 'walkDistance',\n",
       " 'weaponsAcquired',\n",
       " 'winPoints',\n",
       " 'winPlacePerc']"
      ]
     },
     "execution_count": 21,
     "metadata": {},
     "output_type": "execute_result"
    }
   ],
   "source": [
    "# Print all the numerical columns names\n",
    "df.describe().columns.tolist()"
   ]
  },
  {
   "cell_type": "code",
   "execution_count": 23,
   "metadata": {},
   "outputs": [
    {
     "data": {
      "text/plain": [
       "['matchId', 'matchType', 'groupId', 'Id']"
      ]
     },
     "execution_count": 23,
     "metadata": {},
     "output_type": "execute_result"
    }
   ],
   "source": [
    "#16\n",
    "# Print all the categorical columns\n",
    "list(set(df.columns) - set(df.describe().columns))"
   ]
  },
  {
   "cell_type": "code",
   "execution_count": 24,
   "metadata": {},
   "outputs": [
    {
     "data": {
      "text/plain": [
       "0    1376\n",
       "dtype: int64"
      ]
     },
     "execution_count": 24,
     "metadata": {},
     "output_type": "execute_result"
    }
   ],
   "source": [
    "#8\n",
    "df[\"matchDuration\"].mode()"
   ]
  },
  {
   "cell_type": "code",
   "execution_count": 25,
   "metadata": {},
   "outputs": [
    {
     "data": {
      "image/png": "[encoded data removed]",
      "text/plain": [
       "<Figure size 432x288 with 1 Axes>"
      ]
     },
     "metadata": {
      "needs_background": "light"
     },
     "output_type": "display_data"
    }
   ],
   "source": [
    "sns.distplot(df[\"matchDuration\"]);"
   ]
  },
  {
   "cell_type": "code",
   "execution_count": 26,
   "metadata": {},
   "outputs": [
    {
     "data": {
      "image/png": "[encoded data removed]",
      "text/plain": [
       "<Figure size 432x288 with 1 Axes>"
      ]
     },
     "metadata": {
      "needs_background": "light"
     },
     "output_type": "display_data"
    }
   ],
   "source": [
    "#9\n",
    "sns.distplot(df[\"walkDistance\"]);"
   ]
  },
  {
   "cell_type": "code",
   "execution_count": 27,
   "metadata": {},
   "outputs": [
    {
     "data": {
      "image/png": "[encoded data removed]",
      "text/plain": [
       "<Figure size 1440x360 with 2 Axes>"
      ]
     },
     "metadata": {
      "needs_background": "light"
     },
     "output_type": "display_data"
    }
   ],
   "source": [
    "#10\n",
    "plt.figure(figsize = (20,5))\n",
    "plt.subplot(2,1,1)\n",
    "sns.distplot(df[\"matchDuration\"]);\n",
    "\n",
    "plt.subplot(2,1,2)\n",
    "sns.distplot(df[\"walkDistance\"]);"
   ]
  },
  {
   "cell_type": "code",
   "execution_count": 28,
   "metadata": {},
   "outputs": [
    {
     "data": {
      "image/png": "[encoded data removed]",
      "text/plain": [
       "<Figure size 1440x360 with 2 Axes>"
      ]
     },
     "metadata": {
      "needs_background": "light"
     },
     "output_type": "display_data"
    }
   ],
   "source": [
    "#11\n",
    "plt.figure(figsize = (20,5))\n",
    "plt.subplot(1,2,1)\n",
    "sns.distplot(df[\"matchDuration\"]);\n",
    "\n",
    "plt.subplot(1,2,2)\n",
    "sns.distplot(df[\"walkDistance\"]);"
   ]
  },
  {
   "cell_type": "code",
   "execution_count": 31,
   "metadata": {},
   "outputs": [
    {
     "data": {
      "image/png": "[encoded data removed]",
      "text/plain": [
       "<Figure size 540x540 with 12 Axes>"
      ]
     },
     "metadata": {
      "needs_background": "light"
     },
     "output_type": "display_data"
    }
   ],
   "source": [
    "#12\n",
    "col = df[[\"kills\",\"damageDealt\",\"maxPlace\"]]\n",
    "sns.pairplot(col);"
   ]
  },
  {
   "cell_type": "code",
   "execution_count": 32,
   "metadata": {},
   "outputs": [
    {
     "data": {
      "text/plain": [
       "squad-fpp           3969\n",
       "duo-fpp             2282\n",
       "squad               1359\n",
       "solo-fpp            1234\n",
       "duo                  702\n",
       "solo                 386\n",
       "normal-squad-fpp      24\n",
       "normal-duo-fpp        13\n",
       "crashfpp              13\n",
       "normal-solo-fpp        8\n",
       "normal-squad           4\n",
       "flaretpp               3\n",
       "crashtpp               2\n",
       "flarefpp               1\n",
       "Name: matchType, dtype: int64"
      ]
     },
     "execution_count": 32,
     "metadata": {},
     "output_type": "execute_result"
    }
   ],
   "source": [
    "#13\n",
    "df[\"matchType\"].value_counts()"
   ]
  },
  {
   "cell_type": "code",
   "execution_count": 34,
   "metadata": {},
   "outputs": [
    {
     "data": {
      "text/plain": [
       "(array([ 0,  1,  2,  3,  4,  5,  6,  7,  8,  9, 10, 11, 12, 13]),\n",
       " <a list of 14 Text major ticklabel objects>)"
      ]
     },
     "execution_count": 34,
     "metadata": {},
     "output_type": "execute_result"
    },
    {
     "data": {
      "image/png": "[encoded data removed]",
      "text/plain": [
       "<Figure size 432x288 with 1 Axes>"
      ]
     },
     "metadata": {
      "needs_background": "light"
     },
     "output_type": "display_data"
    }
   ],
   "source": [
    "#14\n",
    "sns.barplot(x = 'matchType', y = 'killPoints', data = df);\n",
    "plt.xticks(rotation = 'vertical')\n",
    "plt.tight_layout()"
   ]
  },
  {
   "cell_type": "code",
   "execution_count": 36,
   "metadata": {},
   "outputs": [
    {
     "data": {
      "image/png": "[encoded data removed]",
      "text/plain": [
       "<Figure size 432x288 with 1 Axes>"
      ]
     },
     "metadata": {
      "needs_background": "light"
     },
     "output_type": "display_data"
    }
   ],
   "source": [
    "#15\n",
    "sns.barplot(x = 'matchType', y = 'weaponsAcquired', data = df);\n",
    "plt.xticks(rotation = 70);\n",
    "plt.tight_layout();\n"
   ]
  },
  {
   "cell_type": "code",
   "execution_count": 38,
   "metadata": {},
   "outputs": [
    {
     "data": {
      "image/png": "[encoded data removed]",
      "text/plain": [
       "<Figure size 432x288 with 1 Axes>"
      ]
     },
     "metadata": {
      "needs_background": "light"
     },
     "output_type": "display_data"
    }
   ],
   "source": [
    "#18\n",
    "sns.boxplot(x = 'matchType', y = 'winPlacePerc', data = df, palette = 'rainbow')\n",
    "plt.xticks(rotation = 70);\n",
    "plt.tight_layout();"
   ]
  },
  {
   "cell_type": "code",
   "execution_count": 39,
   "metadata": {},
   "outputs": [
    {
     "data": {
      "image/png": "[encoded data removed]",
      "text/plain": [
       "<Figure size 432x288 with 1 Axes>"
      ]
     },
     "metadata": {
      "needs_background": "light"
     },
     "output_type": "display_data"
    }
   ],
   "source": [
    "#19\n",
    "sns.boxplot(x = 'matchType', y = 'matchDuration', data = df, palette = 'deep')\n",
    "plt.xticks(rotation = 70);\n",
    "plt.tight_layout();"
   ]
  },
  {
   "cell_type": "code",
   "execution_count": 41,
   "metadata": {},
   "outputs": [
    {
     "data": {
      "image/png": "[encoded data removed]",
      "text/plain": [
       "<Figure size 432x288 with 1 Axes>"
      ]
     },
     "metadata": {
      "needs_background": "light"
     },
     "output_type": "display_data"
    }
   ],
   "source": [
    "#20\n",
    "sns.boxplot(data = df[['matchDuration','walkDistance','boosts']].sample(1000),palette = 'rainbow', orient = 'h');"
   ]
  },
  {
   "cell_type": "code",
   "execution_count": 42,
   "metadata": {},
   "outputs": [],
   "source": [
    "df['KILL'] = df['headshotKills'] + df['teamKills'] + df['roadKills']"
   ]
  },
  {
   "cell_type": "code",
   "execution_count": 43,
   "metadata": {},
   "outputs": [
    {
     "data": {
      "text/html": [
       "<div>\n",
       "<style scoped>\n",
       "    .dataframe tbody tr th:only-of-type {\n",
       "        vertical-align: middle;\n",
       "    }\n",
       "\n",
       "    .dataframe tbody tr th {\n",
       "        vertical-align: top;\n",
       "    }\n",
       "\n",
       "    .dataframe thead th {\n",
       "        text-align: right;\n",
       "    }\n",
       "</style>\n",
       "<table border=\"1\" class=\"dataframe\">\n",
       "  <thead>\n",
       "    <tr style=\"text-align: right;\">\n",
       "      <th></th>\n",
       "      <th>Id</th>\n",
       "      <th>groupId</th>\n",
       "      <th>matchId</th>\n",
       "      <th>assists</th>\n",
       "      <th>boosts</th>\n",
       "      <th>damageDealt</th>\n",
       "      <th>DBNOs</th>\n",
       "      <th>headshotKills</th>\n",
       "      <th>heals</th>\n",
       "      <th>killPlace</th>\n",
       "      <th>...</th>\n",
       "      <th>rideDistance</th>\n",
       "      <th>roadKills</th>\n",
       "      <th>swimDistance</th>\n",
       "      <th>teamKills</th>\n",
       "      <th>vehicleDestroys</th>\n",
       "      <th>walkDistance</th>\n",
       "      <th>weaponsAcquired</th>\n",
       "      <th>winPoints</th>\n",
       "      <th>winPlacePerc</th>\n",
       "      <th>KILL</th>\n",
       "    </tr>\n",
       "  </thead>\n",
       "  <tbody>\n",
       "    <tr>\n",
       "      <th>0</th>\n",
       "      <td>2f262dd9795e60</td>\n",
       "      <td>78437bcd91d40e</td>\n",
       "      <td>d5db3a49eb2955</td>\n",
       "      <td>0</td>\n",
       "      <td>0</td>\n",
       "      <td>0.0</td>\n",
       "      <td>0</td>\n",
       "      <td>0</td>\n",
       "      <td>0</td>\n",
       "      <td>92</td>\n",
       "      <td>...</td>\n",
       "      <td>0.0</td>\n",
       "      <td>0</td>\n",
       "      <td>0.0</td>\n",
       "      <td>0</td>\n",
       "      <td>0</td>\n",
       "      <td>0.0</td>\n",
       "      <td>0</td>\n",
       "      <td>1470</td>\n",
       "      <td>0.0000</td>\n",
       "      <td>0</td>\n",
       "    </tr>\n",
       "    <tr>\n",
       "      <th>1</th>\n",
       "      <td>a32847cf5bf34b</td>\n",
       "      <td>85b7ce5a12e10b</td>\n",
       "      <td>65223f05c7fdb4</td>\n",
       "      <td>0</td>\n",
       "      <td>0</td>\n",
       "      <td>163.2</td>\n",
       "      <td>1</td>\n",
       "      <td>1</td>\n",
       "      <td>0</td>\n",
       "      <td>42</td>\n",
       "      <td>...</td>\n",
       "      <td>0.0</td>\n",
       "      <td>0</td>\n",
       "      <td>0.0</td>\n",
       "      <td>0</td>\n",
       "      <td>0</td>\n",
       "      <td>132.7</td>\n",
       "      <td>2</td>\n",
       "      <td>1531</td>\n",
       "      <td>0.2222</td>\n",
       "      <td>1</td>\n",
       "    </tr>\n",
       "    <tr>\n",
       "      <th>2</th>\n",
       "      <td>1b1900a9990396</td>\n",
       "      <td>edf80d6523380a</td>\n",
       "      <td>1cadec4534f30a</td>\n",
       "      <td>0</td>\n",
       "      <td>3</td>\n",
       "      <td>278.7</td>\n",
       "      <td>2</td>\n",
       "      <td>1</td>\n",
       "      <td>8</td>\n",
       "      <td>16</td>\n",
       "      <td>...</td>\n",
       "      <td>0.0</td>\n",
       "      <td>0</td>\n",
       "      <td>0.0</td>\n",
       "      <td>0</td>\n",
       "      <td>0</td>\n",
       "      <td>3591.0</td>\n",
       "      <td>10</td>\n",
       "      <td>0</td>\n",
       "      <td>0.8571</td>\n",
       "      <td>1</td>\n",
       "    </tr>\n",
       "    <tr>\n",
       "      <th>3</th>\n",
       "      <td>f589dd03b60bf2</td>\n",
       "      <td>804ab5e5585558</td>\n",
       "      <td>c4a5676dc91604</td>\n",
       "      <td>0</td>\n",
       "      <td>0</td>\n",
       "      <td>191.9</td>\n",
       "      <td>1</td>\n",
       "      <td>0</td>\n",
       "      <td>0</td>\n",
       "      <td>31</td>\n",
       "      <td>...</td>\n",
       "      <td>0.0</td>\n",
       "      <td>0</td>\n",
       "      <td>0.0</td>\n",
       "      <td>0</td>\n",
       "      <td>0</td>\n",
       "      <td>332.7</td>\n",
       "      <td>3</td>\n",
       "      <td>0</td>\n",
       "      <td>0.3462</td>\n",
       "      <td>0</td>\n",
       "    </tr>\n",
       "    <tr>\n",
       "      <th>4</th>\n",
       "      <td>c23c4cc5b78b35</td>\n",
       "      <td>b3e2cd169ed920</td>\n",
       "      <td>cd595700a01bfa</td>\n",
       "      <td>0</td>\n",
       "      <td>0</td>\n",
       "      <td>100.0</td>\n",
       "      <td>1</td>\n",
       "      <td>0</td>\n",
       "      <td>0</td>\n",
       "      <td>87</td>\n",
       "      <td>...</td>\n",
       "      <td>0.0</td>\n",
       "      <td>0</td>\n",
       "      <td>0.0</td>\n",
       "      <td>0</td>\n",
       "      <td>0</td>\n",
       "      <td>252.7</td>\n",
       "      <td>3</td>\n",
       "      <td>1557</td>\n",
       "      <td>0.0690</td>\n",
       "      <td>0</td>\n",
       "    </tr>\n",
       "  </tbody>\n",
       "</table>\n",
       "<p>5 rows × 30 columns</p>\n",
       "</div>"
      ],
      "text/plain": [
       "               Id         groupId         matchId  assists  boosts  \\\n",
       "0  2f262dd9795e60  78437bcd91d40e  d5db3a49eb2955        0       0   \n",
       "1  a32847cf5bf34b  85b7ce5a12e10b  65223f05c7fdb4        0       0   \n",
       "2  1b1900a9990396  edf80d6523380a  1cadec4534f30a        0       3   \n",
       "3  f589dd03b60bf2  804ab5e5585558  c4a5676dc91604        0       0   \n",
       "4  c23c4cc5b78b35  b3e2cd169ed920  cd595700a01bfa        0       0   \n",
       "\n",
       "   damageDealt  DBNOs  headshotKills  heals  killPlace  ...  rideDistance  \\\n",
       "0          0.0      0              0      0         92  ...           0.0   \n",
       "1        163.2      1              1      0         42  ...           0.0   \n",
       "2        278.7      2              1      8         16  ...           0.0   \n",
       "3        191.9      1              0      0         31  ...           0.0   \n",
       "4        100.0      1              0      0         87  ...           0.0   \n",
       "\n",
       "   roadKills  swimDistance  teamKills  vehicleDestroys walkDistance  \\\n",
       "0          0           0.0          0                0          0.0   \n",
       "1          0           0.0          0                0        132.7   \n",
       "2          0           0.0          0                0       3591.0   \n",
       "3          0           0.0          0                0        332.7   \n",
       "4          0           0.0          0                0        252.7   \n",
       "\n",
       "   weaponsAcquired  winPoints  winPlacePerc  KILL  \n",
       "0                0       1470        0.0000     0  \n",
       "1                2       1531        0.2222     1  \n",
       "2               10          0        0.8571     1  \n",
       "3                3          0        0.3462     0  \n",
       "4                3       1557        0.0690     0  \n",
       "\n",
       "[5 rows x 30 columns]"
      ]
     },
     "execution_count": 43,
     "metadata": {},
     "output_type": "execute_result"
    }
   ],
   "source": [
    "df.head()"
   ]
  },
  {
   "cell_type": "code",
   "execution_count": 44,
   "metadata": {},
   "outputs": [],
   "source": [
    "#21\n",
    "df['winPlacePerc'] = round(df['winPlacePerc'] , 2)"
   ]
  },
  {
   "cell_type": "code",
   "execution_count": 45,
   "metadata": {},
   "outputs": [
    {
     "data": {
      "text/html": [
       "<div>\n",
       "<style scoped>\n",
       "    .dataframe tbody tr th:only-of-type {\n",
       "        vertical-align: middle;\n",
       "    }\n",
       "\n",
       "    .dataframe tbody tr th {\n",
       "        vertical-align: top;\n",
       "    }\n",
       "\n",
       "    .dataframe thead th {\n",
       "        text-align: right;\n",
       "    }\n",
       "</style>\n",
       "<table border=\"1\" class=\"dataframe\">\n",
       "  <thead>\n",
       "    <tr style=\"text-align: right;\">\n",
       "      <th></th>\n",
       "      <th>Id</th>\n",
       "      <th>groupId</th>\n",
       "      <th>matchId</th>\n",
       "      <th>assists</th>\n",
       "      <th>boosts</th>\n",
       "      <th>damageDealt</th>\n",
       "      <th>DBNOs</th>\n",
       "      <th>headshotKills</th>\n",
       "      <th>heals</th>\n",
       "      <th>killPlace</th>\n",
       "      <th>...</th>\n",
       "      <th>rideDistance</th>\n",
       "      <th>roadKills</th>\n",
       "      <th>swimDistance</th>\n",
       "      <th>teamKills</th>\n",
       "      <th>vehicleDestroys</th>\n",
       "      <th>walkDistance</th>\n",
       "      <th>weaponsAcquired</th>\n",
       "      <th>winPoints</th>\n",
       "      <th>winPlacePerc</th>\n",
       "      <th>KILL</th>\n",
       "    </tr>\n",
       "  </thead>\n",
       "  <tbody>\n",
       "    <tr>\n",
       "      <th>0</th>\n",
       "      <td>2f262dd9795e60</td>\n",
       "      <td>78437bcd91d40e</td>\n",
       "      <td>d5db3a49eb2955</td>\n",
       "      <td>0</td>\n",
       "      <td>0</td>\n",
       "      <td>0.0</td>\n",
       "      <td>0</td>\n",
       "      <td>0</td>\n",
       "      <td>0</td>\n",
       "      <td>92</td>\n",
       "      <td>...</td>\n",
       "      <td>0.0</td>\n",
       "      <td>0</td>\n",
       "      <td>0.0</td>\n",
       "      <td>0</td>\n",
       "      <td>0</td>\n",
       "      <td>0.0</td>\n",
       "      <td>0</td>\n",
       "      <td>1470</td>\n",
       "      <td>0.00</td>\n",
       "      <td>0</td>\n",
       "    </tr>\n",
       "    <tr>\n",
       "      <th>1</th>\n",
       "      <td>a32847cf5bf34b</td>\n",
       "      <td>85b7ce5a12e10b</td>\n",
       "      <td>65223f05c7fdb4</td>\n",
       "      <td>0</td>\n",
       "      <td>0</td>\n",
       "      <td>163.2</td>\n",
       "      <td>1</td>\n",
       "      <td>1</td>\n",
       "      <td>0</td>\n",
       "      <td>42</td>\n",
       "      <td>...</td>\n",
       "      <td>0.0</td>\n",
       "      <td>0</td>\n",
       "      <td>0.0</td>\n",
       "      <td>0</td>\n",
       "      <td>0</td>\n",
       "      <td>132.7</td>\n",
       "      <td>2</td>\n",
       "      <td>1531</td>\n",
       "      <td>0.22</td>\n",
       "      <td>1</td>\n",
       "    </tr>\n",
       "    <tr>\n",
       "      <th>2</th>\n",
       "      <td>1b1900a9990396</td>\n",
       "      <td>edf80d6523380a</td>\n",
       "      <td>1cadec4534f30a</td>\n",
       "      <td>0</td>\n",
       "      <td>3</td>\n",
       "      <td>278.7</td>\n",
       "      <td>2</td>\n",
       "      <td>1</td>\n",
       "      <td>8</td>\n",
       "      <td>16</td>\n",
       "      <td>...</td>\n",
       "      <td>0.0</td>\n",
       "      <td>0</td>\n",
       "      <td>0.0</td>\n",
       "      <td>0</td>\n",
       "      <td>0</td>\n",
       "      <td>3591.0</td>\n",
       "      <td>10</td>\n",
       "      <td>0</td>\n",
       "      <td>0.86</td>\n",
       "      <td>1</td>\n",
       "    </tr>\n",
       "    <tr>\n",
       "      <th>3</th>\n",
       "      <td>f589dd03b60bf2</td>\n",
       "      <td>804ab5e5585558</td>\n",
       "      <td>c4a5676dc91604</td>\n",
       "      <td>0</td>\n",
       "      <td>0</td>\n",
       "      <td>191.9</td>\n",
       "      <td>1</td>\n",
       "      <td>0</td>\n",
       "      <td>0</td>\n",
       "      <td>31</td>\n",
       "      <td>...</td>\n",
       "      <td>0.0</td>\n",
       "      <td>0</td>\n",
       "      <td>0.0</td>\n",
       "      <td>0</td>\n",
       "      <td>0</td>\n",
       "      <td>332.7</td>\n",
       "      <td>3</td>\n",
       "      <td>0</td>\n",
       "      <td>0.35</td>\n",
       "      <td>0</td>\n",
       "    </tr>\n",
       "    <tr>\n",
       "      <th>4</th>\n",
       "      <td>c23c4cc5b78b35</td>\n",
       "      <td>b3e2cd169ed920</td>\n",
       "      <td>cd595700a01bfa</td>\n",
       "      <td>0</td>\n",
       "      <td>0</td>\n",
       "      <td>100.0</td>\n",
       "      <td>1</td>\n",
       "      <td>0</td>\n",
       "      <td>0</td>\n",
       "      <td>87</td>\n",
       "      <td>...</td>\n",
       "      <td>0.0</td>\n",
       "      <td>0</td>\n",
       "      <td>0.0</td>\n",
       "      <td>0</td>\n",
       "      <td>0</td>\n",
       "      <td>252.7</td>\n",
       "      <td>3</td>\n",
       "      <td>1557</td>\n",
       "      <td>0.07</td>\n",
       "      <td>0</td>\n",
       "    </tr>\n",
       "  </tbody>\n",
       "</table>\n",
       "<p>5 rows × 30 columns</p>\n",
       "</div>"
      ],
      "text/plain": [
       "               Id         groupId         matchId  assists  boosts  \\\n",
       "0  2f262dd9795e60  78437bcd91d40e  d5db3a49eb2955        0       0   \n",
       "1  a32847cf5bf34b  85b7ce5a12e10b  65223f05c7fdb4        0       0   \n",
       "2  1b1900a9990396  edf80d6523380a  1cadec4534f30a        0       3   \n",
       "3  f589dd03b60bf2  804ab5e5585558  c4a5676dc91604        0       0   \n",
       "4  c23c4cc5b78b35  b3e2cd169ed920  cd595700a01bfa        0       0   \n",
       "\n",
       "   damageDealt  DBNOs  headshotKills  heals  killPlace  ...  rideDistance  \\\n",
       "0          0.0      0              0      0         92  ...           0.0   \n",
       "1        163.2      1              1      0         42  ...           0.0   \n",
       "2        278.7      2              1      8         16  ...           0.0   \n",
       "3        191.9      1              0      0         31  ...           0.0   \n",
       "4        100.0      1              0      0         87  ...           0.0   \n",
       "\n",
       "   roadKills  swimDistance  teamKills  vehicleDestroys walkDistance  \\\n",
       "0          0           0.0          0                0          0.0   \n",
       "1          0           0.0          0                0        132.7   \n",
       "2          0           0.0          0                0       3591.0   \n",
       "3          0           0.0          0                0        332.7   \n",
       "4          0           0.0          0                0        252.7   \n",
       "\n",
       "   weaponsAcquired  winPoints  winPlacePerc  KILL  \n",
       "0                0       1470          0.00     0  \n",
       "1                2       1531          0.22     1  \n",
       "2               10          0          0.86     1  \n",
       "3                3          0          0.35     0  \n",
       "4                3       1557          0.07     0  \n",
       "\n",
       "[5 rows x 30 columns]"
      ]
     },
     "execution_count": 45,
     "metadata": {},
     "output_type": "execute_result"
    }
   ],
   "source": [
    "df.head()"
   ]
  },
  {
   "cell_type": "code",
   "execution_count": 46,
   "metadata": {},
   "outputs": [
    {
     "name": "stdout",
     "output_type": "stream",
     "text": [
      "[133.9834, 131.05450000000002, 152.25280000000004, 118.91559999999998, 101.68599999999996, 88.63680000000002, 139.34695999999997, 126.95859999999999, 92.63420000000002, 105.53820000000002, 134.89444, 149.80659999999997, 132.58120000000002, 92.42380000000001, 142.88175999999999, 90.59440000000002, 139.2162, 163.47100000000003, 132.07076, 134.61974, 150.00840000000005, 138.1716, 122.1984, 98.26620000000001, 100.42620000000001, 133.3586, 97.95559999999999, 114.7902, 160.19540000000003, 117.77240000000002, 120.31279999999998, 137.4528, 112.31119999999999, 123.9656, 133.77039999999997, 114.9126, 93.70106, 120.8054, 159.77979999999997, 118.09100000000007, 118.89973999999995, 180.7332, 100.45580000000001, 147.323, 144.37699999999998, 114.15359999999998, 100.61040000000001, 104.34139999999998, 104.71640000000001, 119.99920000000003, 122.87619999999998, 128.5964, 110.257, 112.58640000000003, 139.41341999999997, 147.67480000000003, 143.6768, 142.09600000000003, 121.38119999999999, 128.57311999999993, 132.6122, 78.85940000000001, 168.78400000000002, 96.05940000000001, 119.36037999999999, 100.73020000000001, 154.0056, 113.9646, 125.819, 139.93339999999998, 135.36980000000003, 151.00468000000004, 121.81219999999999, 122.38044, 137.9814, 114.51039999999999, 111.05059999999999, 112.17138000000001, 109.98794, 129.35239999999996, 144.50600000000003, 111.7202, 125.72600000000004, 134.7412, 109.85518000000002, 126.39604000000001, 121.70240000000001, 135.5014, 100.24040000000001, 154.8428, 147.96202000000005, 137.41495999999998, 202.89319999999995, 151.50339999999997, 123.70280000000001, 113.56779999999999, 91.83179999999999, 107.49719999999999, 122.9172, 126.45039999999999]\n"
     ]
    }
   ],
   "source": [
    "#22\n",
    "l = []\n",
    "for i in range(100):\n",
    "    l.append(df['damageDealt'].sample(50).mean())\n",
    "print(l)"
   ]
  },
  {
   "cell_type": "code",
   "execution_count": 50,
   "metadata": {},
   "outputs": [
    {
     "name": "stdout",
     "output_type": "stream",
     "text": [
      "Normally Distributed and Bell shaped curve\n"
     ]
    },
    {
     "data": {
      "image/png": "[encoded data removed]",
      "text/plain": [
       "<Figure size 432x288 with 1 Axes>"
      ]
     },
     "metadata": {
      "needs_background": "light"
     },
     "output_type": "display_data"
    }
   ],
   "source": [
    "sns.distplot(l);\n",
    "print(\"Normally Distributed and Bell shaped curve\")"
   ]
  },
  {
   "cell_type": "code",
   "execution_count": null,
   "metadata": {},
   "outputs": [],
   "source": []
  }
 ],
 "metadata": {
  "kernelspec": {
   "display_name": "Python 3",
   "language": "python",
   "name": "python3"
  },
  "language_info": {
   "codemirror_mode": {
    "name": "ipython",
    "version": 3
   },
   "file_extension": ".py",
   "mimetype": "text/x-python",
   "name": "python",
   "nbconvert_exporter": "python",
   "pygments_lexer": "ipython3",
   "version": "3.8.3"
  }
 },
 "nbformat": 4,
 "nbformat_minor": 4
}
